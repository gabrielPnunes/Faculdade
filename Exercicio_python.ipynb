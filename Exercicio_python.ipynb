{
  "nbformat": 4,
  "nbformat_minor": 0,
  "metadata": {
    "colab": {
      "provenance": []
    },
    "kernelspec": {
      "name": "python3",
      "display_name": "Python 3"
    },
    "language_info": {
      "name": "python"
    }
  },
  "cells": [
    {
      "cell_type": "markdown",
      "source": [],
      "metadata": {
        "id": "skvQ8Qbc1cLE"
      }
    },
    {
      "cell_type": "markdown",
      "source": [
        "0. Hello world pra dar sorte"
      ],
      "metadata": {
        "id": "faDSfBQv__Wq"
      }
    },
    {
      "cell_type": "code",
      "source": [
        "print(\"Hello world!!\")"
      ],
      "metadata": {
        "colab": {
          "base_uri": "https://localhost:8080/"
        },
        "id": "HYZOnOh_ALgw",
        "outputId": "479c0fb4-a0be-413d-f5f9-99a7c09475df"
      },
      "execution_count": null,
      "outputs": [
        {
          "output_type": "stream",
          "name": "stdout",
          "text": [
            "Hello world!!\n"
          ]
        }
      ]
    },
    {
      "cell_type": "markdown",
      "source": [
        "1. Aqui estão todos os tipos de e de dados, e a forma de verificarmos"
      ],
      "metadata": {
        "id": "prPdXN6dAS9o"
      }
    },
    {
      "cell_type": "code",
      "source": [
        "string = \"Palavra\"\n",
        "print(\"Isso é uma string\",type(string))\n",
        "\n",
        "inteiro = 1\n",
        "print(\"Isso é um inteiro \", type(inteiro))\n",
        "\n",
        "flutuante = 1.0 #Nunca use vírgula para representar números float\n",
        "print(\"Isso é um flutuante\", type(flutuante))\n",
        "\n",
        "booleano = False\n",
        "print(\"Isso é um booleano\", type(booleano))"
      ],
      "metadata": {
        "colab": {
          "base_uri": "https://localhost:8080/"
        },
        "id": "XgjVZ-qwAjXH",
        "outputId": "ec801cac-1dc6-4e5f-a934-bd755661ce68"
      },
      "execution_count": null,
      "outputs": [
        {
          "output_type": "stream",
          "name": "stdout",
          "text": [
            "Isso é uma string <class 'str'>\n",
            "Isso é um inteiro  {<class 'int'>}\n",
            "Isso é um flutuante <class 'float'>\n",
            "Isso é um booleano <class 'bool'>\n"
          ]
        }
      ]
    },
    {
      "cell_type": "markdown",
      "source": [
        "2. Irei demonstrar as operações comuns e como selecioná-las utilizando a estrutura if. E tratar elas utilizando o try\n"
      ],
      "metadata": {
        "id": "3Q5-E-AUDFhs"
      }
    },
    {
      "cell_type": "code",
      "source": [
        "def operacoes_basicas():\n",
        "    try:\n",
        "        num1 = float(input(\"Digite o primeiro número: \"))#não utilizei eval pois o try ira tratar entradas de strs\n",
        "        num2 = float(input(\"Digite o segundo número: \"))\n",
        "    except ValueError:\n",
        "        print(\"O número ou valor digitado está incorreto\")\n",
        "        return\n",
        "\n",
        "    escolha = input(\"Escolha entre as seguintes operações: +, -, *, **, / e // \")\n",
        "\n",
        "    if escolha == \"+\":\n",
        "        resultado = num1 + num2\n",
        "    elif escolha == \"-\":\n",
        "        resultado = num1 - num2\n",
        "    elif escolha == \"*\":\n",
        "        resultado = num1 * num2\n",
        "    elif escolha == \"**\":\n",
        "        resultado = num1 ** num2\n",
        "    elif escolha == \"/\":\n",
        "        if num2 == 0:\n",
        "            print(\"Erro: Divisão por zero não é permitida.\")\n",
        "            return\n",
        "        resultado = num1 / num2\n",
        "    elif escolha == \"//\":\n",
        "        if num2 == 0:\n",
        "            print(\"Erro: Divisão por zero não é permitida.\")\n",
        "            return\n",
        "        resultado = num1 // num2\n",
        "    else:\n",
        "        print(\"Opção incorreta.\")\n",
        "        return\n",
        "\n",
        "    print(f\"O resultado da operação {escolha} é: {resultado}\")\n",
        "operacoes_basicas()"
      ],
      "metadata": {
        "colab": {
          "base_uri": "https://localhost:8080/"
        },
        "id": "UUcDCMT9Rs2U",
        "outputId": "6909cec7-9723-4935-cdce-52c888740013"
      },
      "execution_count": null,
      "outputs": [
        {
          "output_type": "stream",
          "name": "stdout",
          "text": [
            "Digite o primeiro número: 5\n",
            "Digite o segundo número: 5\n",
            "Escolha entre as seguintes operações: +, -, *, **, / e // /\n",
            "O resultado da operação / é: 1.0\n"
          ]
        }
      ]
    },
    {
      "cell_type": "markdown",
      "source": [
        "3. Utilizando as estruturas if e for irei fazer um codigo que sempre incremente um no numero soliticitado"
      ],
      "metadata": {
        "id": "wD-m-HuNNtNS"
      }
    },
    {
      "cell_type": "code",
      "source": [
        "def incrementar()\n",
        "\n",
        "soma = input(\"\")\n",
        "count = 0\n",
        "for qui in range(1, 501, 2):\n",
        "    if qui % 3 == 0:\n",
        "        count = count + 1\n",
        "        soma = soma + qui\n",
        "print('A soma dos {} valores enviados é {} '.format(count, soma))"
      ],
      "metadata": {
        "colab": {
          "base_uri": "https://localhost:8080/"
        },
        "id": "b6mRUDRVQfV7",
        "outputId": "c2a39ce6-2074-443c-d5e6-998da765ed63"
      },
      "execution_count": null,
      "outputs": [
        {
          "output_type": "stream",
          "name": "stdout",
          "text": [
            "A soma dos 83 valores enviados é 20667 \n"
          ]
        }
      ]
    }
  ]
}